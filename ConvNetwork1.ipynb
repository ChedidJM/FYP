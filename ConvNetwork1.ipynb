{
 "cells": [
  {
   "cell_type": "code",
   "execution_count": 41,
   "metadata": {},
   "outputs": [],
   "source": [
    "import torch\n",
    "import torchvision\n",
    "import torch.nn as nn\n",
    "import torch.nn.functional as F\n",
    "import torch.optim as optim\n",
    "import torchvision.transforms as transforms"
   ]
  },
  {
   "cell_type": "code",
   "execution_count": 42,
   "metadata": {},
   "outputs": [],
   "source": [
    "train_set = torchvision.datasets.FashionMNIST(\n",
    "    root='./Data', train=True,download=True, transform=transforms.Compose([transforms.ToTensor()])\n",
    "    )\n",
    "\n",
    "train_loader = torch.utils.data.DataLoader(train_set, batch_size=100)\n",
    "\n",
    "def Correct_Answers(predictions, labels):\n",
    "    return predictions.argmax(dim=1).eq(labels).sum().item()\n",
    "    "
   ]
  },
  {
   "cell_type": "code",
   "execution_count": 43,
   "metadata": {},
   "outputs": [],
   "source": [
    "class ConvNet(nn.Module):\n",
    "    def __init__(self):\n",
    "        super(ConvNet, self).__init__()\n",
    "        self.ConvLayer1 = nn.Conv2d(in_channels=1, out_channels=6, kernel_size=5)\n",
    "        self.ConvLayer2 = nn.Conv2d(in_channels=6, out_channels=12, kernel_size=5)\n",
    "        self.LinLayer1 = nn.Linear(in_features=192, out_features=120)\n",
    "        self.LinLayer2 = nn.Linear(in_features=120, out_features=60)\n",
    "        self.OutLayer = nn.Linear(in_features=60, out_features=10)\n",
    "        \n",
    "    def forward(self, t):  # t is the input tensor \n",
    "        t=self.ConvLayer1(t)\n",
    "        t=F.relu(t)\n",
    "        t=F.max_pool2d(t, kernel_size=2, stride=2)\n",
    "        \n",
    "        t=self.ConvLayer2(t)\n",
    "        t=F.relu(t)\n",
    "        t=F.max_pool2d(t, kernel_size=2, stride=2)\n",
    "        \n",
    "        t=t.reshape(-1, 192)\n",
    "        \n",
    "        t=self.LinLayer1(t)\n",
    "        t=F.relu(t)\n",
    "        \n",
    "        t=self.LinLayer2(t)\n",
    "        t=F.relu(t)\n",
    "        \n",
    "        t=self.OutLayer(t)\n",
    "        \n",
    "        return t\n",
    "        "
   ]
  },
  {
   "cell_type": "code",
   "execution_count": 44,
   "metadata": {},
   "outputs": [
    {
     "name": "stdout",
     "output_type": "stream",
     "text": [
      "Epoch:  0  Total Correct Answers:  46896  Loss:  341.3826375901699\n",
      "For epoch  0 , the network had an accuracy of:  0.7816\n",
      "Epoch:  1  Total Correct Answers:  51467  Loss:  230.41073763370514\n",
      "For epoch  1 , the network had an accuracy of:  0.8577833333333333\n",
      "Epoch:  2  Total Correct Answers:  52124  Loss:  215.166186273098\n",
      "For epoch  2 , the network had an accuracy of:  0.8687333333333334\n",
      "Epoch:  3  Total Correct Answers:  52395  Loss:  205.03610508143902\n",
      "For epoch  3 , the network had an accuracy of:  0.87325\n",
      "Epoch:  4  Total Correct Answers:  52690  Loss:  197.91001753509045\n",
      "For epoch  4 , the network had an accuracy of:  0.8781666666666667\n"
     ]
    }
   ],
   "source": [
    "MyConvNet = ConvNet()\n",
    "optimizer=optim.Adam(MyConvNet.parameters(), lr=0.01) # creating the Adam optimizer (other optimizers like SGD avai;able)\n",
    "\n",
    "\n",
    "\n",
    "for epoch in range(5):\n",
    "    total_loss=0\n",
    "    total_correct_answers=0\n",
    "    for batch in train_loader:\n",
    "        images, labels=batch\n",
    "        predectionsTensor = MyConvNet(images) # images are the training images chosen from the FashionMNIST dataset\n",
    "        loss=F.cross_entropy(predectionsTensor, labels) #calculating the loss of our network\n",
    "\n",
    "        optimizer.zero_grad()\n",
    "        loss.backward() # Calculating Gradients with backward propagation to improve the weights\n",
    "        optimizer.step() # optimizing the network weights\n",
    "\n",
    "        total_loss += loss.item()\n",
    "        total_correct_answers += Correct_Answers(predectionsTensor, labels)\n",
    "\n",
    "    print(\"Epoch: \", epoch, \" Total Correct Answers: \", total_correct_answers, \" Loss: \", total_loss)\n",
    "    accuracy = total_correct_answers / len(train_set)\n",
    "    print(\"For epoch \", epoch, \", the network had an accuracy of: \", accuracy)\n"
   ]
  },
  {
   "cell_type": "code",
   "execution_count": null,
   "metadata": {},
   "outputs": [],
   "source": []
  }
 ],
 "metadata": {
  "kernelspec": {
   "display_name": "Python 3",
   "language": "python",
   "name": "python3"
  },
  "language_info": {
   "codemirror_mode": {
    "name": "ipython",
    "version": 3
   },
   "file_extension": ".py",
   "mimetype": "text/x-python",
   "name": "python",
   "nbconvert_exporter": "python",
   "pygments_lexer": "ipython3",
   "version": "3.7.4"
  }
 },
 "nbformat": 4,
 "nbformat_minor": 2
}
